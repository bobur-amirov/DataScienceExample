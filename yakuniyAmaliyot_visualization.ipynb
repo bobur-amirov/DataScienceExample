{
  "nbformat": 4,
  "nbformat_minor": 0,
  "metadata": {
    "colab": {
      "name": "yakuniyAmaliyot_visualization.ipynb",
      "provenance": [],
      "collapsed_sections": [],
      "include_colab_link": true
    },
    "kernelspec": {
      "name": "python3",
      "display_name": "Python 3"
    },
    "language_info": {
      "name": "python"
    }
  },
  "cells": [
    {
      "cell_type": "markdown",
      "metadata": {
        "id": "view-in-github",
        "colab_type": "text"
      },
      "source": [
        "<a href=\"https://colab.research.google.com/github/bobur-amirov/DataScienceExample/blob/main/yakuniyAmaliyot_visualization.ipynb\" target=\"_parent\"><img src=\"https://colab.research.google.com/assets/colab-badge.svg\" alt=\"Open In Colab\"/></a>"
      ]
    },
    {
      "cell_type": "markdown",
      "source": [
        "![Imgur](https://i.imgur.com/5pXzCIu.png)\n",
        "\n",
        "# Data Science va Sun'iy Intellekt Praktikum\n",
        "\n",
        "## 4-MODUL. VIZUALIZASIYA\n",
        "\n",
        "## Yakuniy amaliyot. `matplotlib`\n"
      ],
      "metadata": {
        "id": "NH59l9byvNyt"
      }
    },
    {
      "cell_type": "code",
      "execution_count": 1,
      "metadata": {
        "id": "kr8VZeHIrvu_"
      },
      "outputs": [],
      "source": [
        "import numpy as np\n",
        "import pandas as pd\n",
        "\n",
        "import matplotlib.pyplot as plt\n",
        "%matplotlib inline\n",
        "import seaborn as sns\n",
        "sns.set()"
      ]
    },
    {
      "cell_type": "markdown",
      "source": [
        "XYZ kompaniyasi taxminan 4000 ishchi xodim ishlaydi va afsuski har yili xodimlarning 15% ga yaqini o'z xohishlari bilan yoki kompaniya tomonidan ishdan bo'shatiladi va yana yangi xodim ishga olinadi. Bu esa kompaniya uchun bir qancha noqulayliklar tug'diradi (loyihalar sekinlashishi, ishga qabul qilish jarayoni uzoqligi, yangi ishchi ko'nikishi uchun treninglar va ma'lum vaqt kerakligi). Ishchilarni saqlab qolish uchun kompaniya HR tahlil qilib ko'rishga qaror qildi va quyidagi datasetdan foydalanib, qanday faktorlar ishchilarni bo'shashiga sabab bo'lishini tahlil qilishgan.\n",
        "Dataset ustun nomlari:\n",
        "\n",
        "1.   Age - yoshi\n",
        "2.   Attrition - ishdan bo'shaganmi\n",
        "3.   BusinessTravel - komandirovka\n",
        "4.   DistanceFromHome - uydan ishgacha bo'lgan masofa (km)\n",
        "5.   Education - Ta'lim\n",
        "6.   Gender - jinsi\n",
        "7.   MaritalStatus - oilaviy holati\n",
        "\n",
        "\n",
        "<a href=\"https://ibb.co/sR5zPJV\"><img src=\"https://i.ibb.co/g9vh7FR/hr.png\" alt=\"hr\" border=\"0\" style=\"width:100%\"></a>\n"
      ],
      "metadata": {
        "id": "zFN8W2-LujYc"
      }
    },
    {
      "cell_type": "code",
      "source": [
        "#@title QUYIDAGI KODGA TEGMANG!!! \n",
        "import ssl\n",
        "ssl._create_default_https_context = ssl._create_unverified_context"
      ],
      "metadata": {
        "id": "kROQyqEcwjDQ"
      },
      "execution_count": 2,
      "outputs": []
    },
    {
      "cell_type": "markdown",
      "source": [
        "## 1-VAZIFA: Quyidagi CSV fayl linkidan foydalaning \n",
        "### - va ma'lumotlarni \"data\" nomli o'zgaruvchiga biriktiring \n",
        "### - hamda 'EmployeeCount','EmployeeID','StandardHours' ustunlari ortiqchaligi sababli o'chirib tashlang\n",
        "\n",
        "### LINK: https://raw.githubusercontent.com/mukhammad-irmatov/health_dataset/main/hr_dataset.csv"
      ],
      "metadata": {
        "id": "uIzfpkaK3bQW"
      }
    },
    {
      "cell_type": "code",
      "source": [
        "# JAVOBNI SHUYERGA YOZING\n",
        "df = pd.read_csv('https://raw.githubusercontent.com/mukhammad-irmatov/health_dataset/main/hr_dataset.csv')\n",
        "df.drop(['EmployeeCount','EmployeeID','StandardHours'], axis=1, inplace=True)\n",
        "df.head()"
      ],
      "metadata": {
        "id": "JPzzo4-Ut1tu",
        "outputId": "c6ced766-3254-4c17-cce4-0bff23f753e2",
        "colab": {
          "base_uri": "https://localhost:8080/",
          "height": 357
        }
      },
      "execution_count": 5,
      "outputs": [
        {
          "output_type": "execute_result",
          "data": {
            "text/html": [
              "\n",
              "  <div id=\"df-acf96369-138d-4656-b0cc-2cdc7427cb82\">\n",
              "    <div class=\"colab-df-container\">\n",
              "      <div>\n",
              "<style scoped>\n",
              "    .dataframe tbody tr th:only-of-type {\n",
              "        vertical-align: middle;\n",
              "    }\n",
              "\n",
              "    .dataframe tbody tr th {\n",
              "        vertical-align: top;\n",
              "    }\n",
              "\n",
              "    .dataframe thead th {\n",
              "        text-align: right;\n",
              "    }\n",
              "</style>\n",
              "<table border=\"1\" class=\"dataframe\">\n",
              "  <thead>\n",
              "    <tr style=\"text-align: right;\">\n",
              "      <th></th>\n",
              "      <th>Age</th>\n",
              "      <th>Attrition</th>\n",
              "      <th>BusinessTravel</th>\n",
              "      <th>Department</th>\n",
              "      <th>DistanceFromHome</th>\n",
              "      <th>Education</th>\n",
              "      <th>EducationField</th>\n",
              "      <th>Gender</th>\n",
              "      <th>JobLevel</th>\n",
              "      <th>JobRole</th>\n",
              "      <th>MaritalStatus</th>\n",
              "      <th>MonthlyIncome</th>\n",
              "      <th>NumCompaniesWorked</th>\n",
              "      <th>Over18</th>\n",
              "      <th>PercentSalaryHike</th>\n",
              "      <th>StockOptionLevel</th>\n",
              "      <th>TotalWorkingYears</th>\n",
              "      <th>TrainingTimesLastYear</th>\n",
              "      <th>YearsAtCompany</th>\n",
              "      <th>YearsSinceLastPromotion</th>\n",
              "      <th>YearsWithCurrManager</th>\n",
              "    </tr>\n",
              "  </thead>\n",
              "  <tbody>\n",
              "    <tr>\n",
              "      <th>0</th>\n",
              "      <td>51</td>\n",
              "      <td>No</td>\n",
              "      <td>Travel_Rarely</td>\n",
              "      <td>Sales</td>\n",
              "      <td>6</td>\n",
              "      <td>2</td>\n",
              "      <td>Life Sciences</td>\n",
              "      <td>Female</td>\n",
              "      <td>1</td>\n",
              "      <td>Healthcare Representative</td>\n",
              "      <td>Married</td>\n",
              "      <td>131160</td>\n",
              "      <td>1.0</td>\n",
              "      <td>Y</td>\n",
              "      <td>11</td>\n",
              "      <td>0</td>\n",
              "      <td>1.0</td>\n",
              "      <td>6</td>\n",
              "      <td>1</td>\n",
              "      <td>0</td>\n",
              "      <td>0</td>\n",
              "    </tr>\n",
              "    <tr>\n",
              "      <th>1</th>\n",
              "      <td>31</td>\n",
              "      <td>Yes</td>\n",
              "      <td>Travel_Frequently</td>\n",
              "      <td>Research &amp; Development</td>\n",
              "      <td>10</td>\n",
              "      <td>1</td>\n",
              "      <td>Life Sciences</td>\n",
              "      <td>Female</td>\n",
              "      <td>1</td>\n",
              "      <td>Research Scientist</td>\n",
              "      <td>Single</td>\n",
              "      <td>41890</td>\n",
              "      <td>0.0</td>\n",
              "      <td>Y</td>\n",
              "      <td>23</td>\n",
              "      <td>1</td>\n",
              "      <td>6.0</td>\n",
              "      <td>3</td>\n",
              "      <td>5</td>\n",
              "      <td>1</td>\n",
              "      <td>4</td>\n",
              "    </tr>\n",
              "    <tr>\n",
              "      <th>2</th>\n",
              "      <td>32</td>\n",
              "      <td>No</td>\n",
              "      <td>Travel_Frequently</td>\n",
              "      <td>Research &amp; Development</td>\n",
              "      <td>17</td>\n",
              "      <td>4</td>\n",
              "      <td>Other</td>\n",
              "      <td>Male</td>\n",
              "      <td>4</td>\n",
              "      <td>Sales Executive</td>\n",
              "      <td>Married</td>\n",
              "      <td>193280</td>\n",
              "      <td>1.0</td>\n",
              "      <td>Y</td>\n",
              "      <td>15</td>\n",
              "      <td>3</td>\n",
              "      <td>5.0</td>\n",
              "      <td>2</td>\n",
              "      <td>5</td>\n",
              "      <td>0</td>\n",
              "      <td>3</td>\n",
              "    </tr>\n",
              "    <tr>\n",
              "      <th>3</th>\n",
              "      <td>38</td>\n",
              "      <td>No</td>\n",
              "      <td>Non-Travel</td>\n",
              "      <td>Research &amp; Development</td>\n",
              "      <td>2</td>\n",
              "      <td>5</td>\n",
              "      <td>Life Sciences</td>\n",
              "      <td>Male</td>\n",
              "      <td>3</td>\n",
              "      <td>Human Resources</td>\n",
              "      <td>Married</td>\n",
              "      <td>83210</td>\n",
              "      <td>3.0</td>\n",
              "      <td>Y</td>\n",
              "      <td>11</td>\n",
              "      <td>3</td>\n",
              "      <td>13.0</td>\n",
              "      <td>5</td>\n",
              "      <td>8</td>\n",
              "      <td>7</td>\n",
              "      <td>5</td>\n",
              "    </tr>\n",
              "    <tr>\n",
              "      <th>4</th>\n",
              "      <td>32</td>\n",
              "      <td>No</td>\n",
              "      <td>Travel_Rarely</td>\n",
              "      <td>Research &amp; Development</td>\n",
              "      <td>10</td>\n",
              "      <td>1</td>\n",
              "      <td>Medical</td>\n",
              "      <td>Male</td>\n",
              "      <td>1</td>\n",
              "      <td>Sales Executive</td>\n",
              "      <td>Single</td>\n",
              "      <td>23420</td>\n",
              "      <td>4.0</td>\n",
              "      <td>Y</td>\n",
              "      <td>12</td>\n",
              "      <td>2</td>\n",
              "      <td>9.0</td>\n",
              "      <td>2</td>\n",
              "      <td>6</td>\n",
              "      <td>0</td>\n",
              "      <td>4</td>\n",
              "    </tr>\n",
              "  </tbody>\n",
              "</table>\n",
              "</div>\n",
              "      <button class=\"colab-df-convert\" onclick=\"convertToInteractive('df-acf96369-138d-4656-b0cc-2cdc7427cb82')\"\n",
              "              title=\"Convert this dataframe to an interactive table.\"\n",
              "              style=\"display:none;\">\n",
              "        \n",
              "  <svg xmlns=\"http://www.w3.org/2000/svg\" height=\"24px\"viewBox=\"0 0 24 24\"\n",
              "       width=\"24px\">\n",
              "    <path d=\"M0 0h24v24H0V0z\" fill=\"none\"/>\n",
              "    <path d=\"M18.56 5.44l.94 2.06.94-2.06 2.06-.94-2.06-.94-.94-2.06-.94 2.06-2.06.94zm-11 1L8.5 8.5l.94-2.06 2.06-.94-2.06-.94L8.5 2.5l-.94 2.06-2.06.94zm10 10l.94 2.06.94-2.06 2.06-.94-2.06-.94-.94-2.06-.94 2.06-2.06.94z\"/><path d=\"M17.41 7.96l-1.37-1.37c-.4-.4-.92-.59-1.43-.59-.52 0-1.04.2-1.43.59L10.3 9.45l-7.72 7.72c-.78.78-.78 2.05 0 2.83L4 21.41c.39.39.9.59 1.41.59.51 0 1.02-.2 1.41-.59l7.78-7.78 2.81-2.81c.8-.78.8-2.07 0-2.86zM5.41 20L4 18.59l7.72-7.72 1.47 1.35L5.41 20z\"/>\n",
              "  </svg>\n",
              "      </button>\n",
              "      \n",
              "  <style>\n",
              "    .colab-df-container {\n",
              "      display:flex;\n",
              "      flex-wrap:wrap;\n",
              "      gap: 12px;\n",
              "    }\n",
              "\n",
              "    .colab-df-convert {\n",
              "      background-color: #E8F0FE;\n",
              "      border: none;\n",
              "      border-radius: 50%;\n",
              "      cursor: pointer;\n",
              "      display: none;\n",
              "      fill: #1967D2;\n",
              "      height: 32px;\n",
              "      padding: 0 0 0 0;\n",
              "      width: 32px;\n",
              "    }\n",
              "\n",
              "    .colab-df-convert:hover {\n",
              "      background-color: #E2EBFA;\n",
              "      box-shadow: 0px 1px 2px rgba(60, 64, 67, 0.3), 0px 1px 3px 1px rgba(60, 64, 67, 0.15);\n",
              "      fill: #174EA6;\n",
              "    }\n",
              "\n",
              "    [theme=dark] .colab-df-convert {\n",
              "      background-color: #3B4455;\n",
              "      fill: #D2E3FC;\n",
              "    }\n",
              "\n",
              "    [theme=dark] .colab-df-convert:hover {\n",
              "      background-color: #434B5C;\n",
              "      box-shadow: 0px 1px 3px 1px rgba(0, 0, 0, 0.15);\n",
              "      filter: drop-shadow(0px 1px 2px rgba(0, 0, 0, 0.3));\n",
              "      fill: #FFFFFF;\n",
              "    }\n",
              "  </style>\n",
              "\n",
              "      <script>\n",
              "        const buttonEl =\n",
              "          document.querySelector('#df-acf96369-138d-4656-b0cc-2cdc7427cb82 button.colab-df-convert');\n",
              "        buttonEl.style.display =\n",
              "          google.colab.kernel.accessAllowed ? 'block' : 'none';\n",
              "\n",
              "        async function convertToInteractive(key) {\n",
              "          const element = document.querySelector('#df-acf96369-138d-4656-b0cc-2cdc7427cb82');\n",
              "          const dataTable =\n",
              "            await google.colab.kernel.invokeFunction('convertToInteractive',\n",
              "                                                     [key], {});\n",
              "          if (!dataTable) return;\n",
              "\n",
              "          const docLinkHtml = 'Like what you see? Visit the ' +\n",
              "            '<a target=\"_blank\" href=https://colab.research.google.com/notebooks/data_table.ipynb>data table notebook</a>'\n",
              "            + ' to learn more about interactive tables.';\n",
              "          element.innerHTML = '';\n",
              "          dataTable['output_type'] = 'display_data';\n",
              "          await google.colab.output.renderOutput(dataTable, element);\n",
              "          const docLink = document.createElement('div');\n",
              "          docLink.innerHTML = docLinkHtml;\n",
              "          element.appendChild(docLink);\n",
              "        }\n",
              "      </script>\n",
              "    </div>\n",
              "  </div>\n",
              "  "
            ],
            "text/plain": [
              "   Age Attrition  ... YearsSinceLastPromotion YearsWithCurrManager\n",
              "0   51        No  ...                       0                    0\n",
              "1   31       Yes  ...                       1                    4\n",
              "2   32        No  ...                       0                    3\n",
              "3   38        No  ...                       7                    5\n",
              "4   32        No  ...                       0                    4\n",
              "\n",
              "[5 rows x 21 columns]"
            ]
          },
          "metadata": {},
          "execution_count": 5
        }
      ]
    },
    {
      "cell_type": "markdown",
      "source": [
        "## 2-VAZIFA: Qaysi ustunlarda nechtadan null qiymatlar borligini aniqlang\n",
        "### - o'sha ustunlardagi kataklarni 0 qiymati bilan to'ldiring.\n"
      ],
      "metadata": {
        "id": "rOEiPT855hfG"
      }
    },
    {
      "cell_type": "code",
      "source": [
        "# JAVOBNI SHUYERGA YOZING\n",
        "df.fillna(0, inplace=True)\n",
        "df.isnull().sum()"
      ],
      "metadata": {
        "id": "iyDLfCeK6Axw",
        "outputId": "90c9cd62-1311-45e5-c7f8-a9ebf6f383b5",
        "colab": {
          "base_uri": "https://localhost:8080/"
        }
      },
      "execution_count": 7,
      "outputs": [
        {
          "output_type": "execute_result",
          "data": {
            "text/plain": [
              "Age                        0\n",
              "Attrition                  0\n",
              "BusinessTravel             0\n",
              "Department                 0\n",
              "DistanceFromHome           0\n",
              "Education                  0\n",
              "EducationField             0\n",
              "Gender                     0\n",
              "JobLevel                   0\n",
              "JobRole                    0\n",
              "MaritalStatus              0\n",
              "MonthlyIncome              0\n",
              "NumCompaniesWorked         0\n",
              "Over18                     0\n",
              "PercentSalaryHike          0\n",
              "StockOptionLevel           0\n",
              "TotalWorkingYears          0\n",
              "TrainingTimesLastYear      0\n",
              "YearsAtCompany             0\n",
              "YearsSinceLastPromotion    0\n",
              "YearsWithCurrManager       0\n",
              "dtype: int64"
            ]
          },
          "metadata": {},
          "execution_count": 7
        }
      ]
    },
    {
      "cell_type": "markdown",
      "source": [
        "## 3-VAZIFA: Barcha ustunlardagi o'zaro korrelatsiyasini aniqlang\n",
        "### - hamda heatmap orqali 16:10 o'lchamda ekranga chiqaring \n"
      ],
      "metadata": {
        "id": "pnbIUjWQ6crL"
      }
    },
    {
      "cell_type": "code",
      "source": [
        "# JAVOBNI SHUYERGA YOZING\n",
        "plt.figure(figsize=(16, 10))\n",
        "sns.heatmap(data=df.corr(), cmap=\"YlGnBu\")\n",
        "plt.show()"
      ],
      "metadata": {
        "id": "twSCy4Re6djN",
        "outputId": "5b315b9a-41a9-4200-cb32-12a60a9cc550",
        "colab": {
          "base_uri": "https://localhost:8080/",
          "height": 727
        }
      },
      "execution_count": 9,
      "outputs": [
        {
          "output_type": "display_data",
          "data": {
            "image/png": "[encoded data removed]",
            "text/plain": [
              "<Figure size 1152x720 with 2 Axes>"
            ]
          },
          "metadata": {
            "needs_background": "light"
          }
        }
      ]
    },
    {
      "cell_type": "markdown",
      "source": [
        "## 4-VAZIFA: Dataset uzunligini toping, ya'ni umumiy nechta qator(row) dan tashkil topgan\n",
        "#### - Attrition(ishdan bo'shaganmi) ustunidagi \"Yes\" deb javob berilgan qatorlar soni\n",
        "#### - Attrition(ishdan bo'shaganmi) ustunidagi \"No\" deb javob berilgan qatorlar soni\n",
        "#### - Attrition(ishdan bo'shaganmi) ustunidagi \"Yes\" deb javob berilgan qatorlar soni umumiy datasetning necha fozini tashkil etadi\n",
        "#### - Attrition(ishdan bo'shaganmi) ustunidagi \"No\" deb javob berilgan qatorlar soni umumiy datasetning necha fozini tashkil etadi\n",
        "\n",
        "**Hint:** har birini ekranga chiqarish uchun print dan foydalaning\n",
        "\n",
        "\n",
        "<a href=\"https://imgbb.com/\"><img src=\"https://i.ibb.co/28VjRyB/img.png\" alt=\"img\" border=\"0\"></a>"
      ],
      "metadata": {
        "id": "RYu99y9T8XrY"
      }
    },
    {
      "cell_type": "code",
      "source": [
        "# JAVOBNI SHUYERGA YOZING\n",
        "yes = df.Attrition == 'Yes'\n",
        "no = df.Attrition == 'No'\n",
        "print(yes.sum())\n",
        "print(no.sum())\n",
        "print(\"Yes: \", yes.sum()/len(df.Attrition) * 100)\n",
        "print(\"No: \", no.sum()/len(df.Attrition) * 100)"
      ],
      "metadata": {
        "id": "7sHkGw4u8Y6n",
        "outputId": "920738a5-6050-44c8-ecab-c9c80cf41091",
        "colab": {
          "base_uri": "https://localhost:8080/"
        }
      },
      "execution_count": 14,
      "outputs": [
        {
          "output_type": "stream",
          "name": "stdout",
          "text": [
            "711\n",
            "3699\n",
            "Yes:  16.122448979591837\n",
            "No:  83.87755102040816\n"
          ]
        }
      ]
    },
    {
      "cell_type": "markdown",
      "source": [
        "## 5-VAZIFA: Countplot() orqali Attrition ustunidagi ma'lumotlarni \"Yes\" \"No\" soniga ko'ra, ustunli grafik shaklida tasvirlang\n",
        "\n",
        "<a href=\"https://imgbb.com/\"><img src=\"https://i.ibb.co/Px9Bn6J/plt.png\" alt=\"plt\" border=\"0\"></a>"
      ],
      "metadata": {
        "id": "wcqV7Cfm9ssp"
      }
    },
    {
      "cell_type": "code",
      "source": [
        "# JAVOBNI SHUYERGA YOZING\n",
        "sns.countplot(data = df, x='Attrition')\n",
        "plt.show()"
      ],
      "metadata": {
        "id": "dTS-HrvM9tdg",
        "outputId": "7d34b99a-1bba-4b44-bbb0-069794cf854a",
        "colab": {
          "base_uri": "https://localhost:8080/",
          "height": 285
        }
      },
      "execution_count": 15,
      "outputs": [
        {
          "output_type": "display_data",
          "data": {
            "image/png": "[encoded data removed]",
            "text/plain": [
              "<Figure size 432x288 with 1 Axes>"
            ]
          },
          "metadata": {
            "needs_background": "light"
          }
        }
      ]
    },
    {
      "cell_type": "markdown",
      "source": [
        "## 6-VAZIFA: Countplot() orqali Attrition ustunidagi ma'lumotlarni \"Yes\" \"No\" soniga ko'ra hamda gender ustuniga bo'lingan holda ustunli grafikda tasvirlang.\n",
        "\n",
        "<a href=\"https://imgbb.com/\"><img src=\"https://i.ibb.co/R7BC8z2/bygender.png\" alt=\"bygender\" border=\"0\"></a>"
      ],
      "metadata": {
        "id": "U8C6d9GuIJus"
      }
    },
    {
      "cell_type": "code",
      "source": [
        "# JAVOBNI SHUYERGA YOZING\n",
        "sns.countplot(data = df, x='Attrition', hue='Gender')\n",
        "plt.show()"
      ],
      "metadata": {
        "id": "IHuArXLLILEB",
        "outputId": "00282e3f-4ee0-4cbf-99c6-63dcb2db15a9",
        "colab": {
          "base_uri": "https://localhost:8080/",
          "height": 285
        }
      },
      "execution_count": 16,
      "outputs": [
        {
          "output_type": "display_data",
          "data": {
            "image/png": "[encoded data removed]",
            "text/plain": [
              "<Figure size 432x288 with 1 Axes>"
            ]
          },
          "metadata": {
            "needs_background": "light"
          }
        }
      ]
    },
    {
      "cell_type": "markdown",
      "source": [
        "## 7-VAZIFA: Countplot() orqali Attrition ustunidagi ma'lumotlarni \"Yes\" \"No\" soniga ko'ra hamda jobLevel ustuniga bo'lingan holda ustunli grafikda tasvirlang.\n",
        "\n",
        "<a href=\"https://imgbb.com/\"><img src=\"https://i.ibb.co/kmzVfDK/byjoblevel.png\" alt=\"byjoblevel\" border=\"0\"></a><br /><a target='_blank' href='https://the-crosswordsolver.com/tobagos-island-neighbor-8-letters'></a><br />"
      ],
      "metadata": {
        "id": "2tAmAxOXKCa0"
      }
    },
    {
      "cell_type": "code",
      "source": [
        "# JAVOBNI SHUYERGA YOZING\n",
        "sns.countplot(data = df, x='Attrition', hue='JobLevel')\n",
        "plt.show()"
      ],
      "metadata": {
        "id": "P0OEMc9UKvgP",
        "outputId": "dbe175e6-3ccc-440d-913b-2de55f22d94f",
        "colab": {
          "base_uri": "https://localhost:8080/",
          "height": 285
        }
      },
      "execution_count": 17,
      "outputs": [
        {
          "output_type": "display_data",
          "data": {
            "image/png": "[encoded data removed]",
            "text/plain": [
              "<Figure size 432x288 with 1 Axes>"
            ]
          },
          "metadata": {
            "needs_background": "light"
          }
        }
      ]
    },
    {
      "cell_type": "markdown",
      "source": [
        "## 8-VAZIFA: Pie chart orqali \"Attrition\" (ishdan bo'shaganmi) ustunidagi Yes va No qiymatlariga ko'ra grafikni chiqaring\n",
        "\n",
        "<a href=\"https://imgbb.com/\"><img src=\"https://i.ibb.co/LZ4cCKb/PieChart.png\" alt=\"PieChart\" border=\"0\"></a><br /><a target='_blank' href='https://the-crosswordsolver.com/netman-smith-4-letters'></a><br />"
      ],
      "metadata": {
        "id": "vKqBcTPhL3-3"
      }
    },
    {
      "cell_type": "code",
      "source": [
        "# JAVOBNI SHUYERGA YOZING\n",
        "plt.pie([yes.sum(), no.sum()], labels=['Yes', 'No'])\n",
        "plt.show()"
      ],
      "metadata": {
        "id": "_m1tHdofL7RS",
        "outputId": "140efdab-1bf0-4390-ef08-67807e7923d4",
        "colab": {
          "base_uri": "https://localhost:8080/",
          "height": 248
        }
      },
      "execution_count": 45,
      "outputs": [
        {
          "output_type": "display_data",
          "data": {
            "image/png": "[encoded data removed]",
            "text/plain": [
              "<Figure size 432x288 with 1 Axes>"
            ]
          },
          "metadata": {}
        }
      ]
    },
    {
      "cell_type": "markdown",
      "source": [
        "## 9-VAZIFA:  Crosstab orqali \"Attrition\" (ishdan bo'shaganmi) ustunidagi Yes va No qiymatlari hamda Department ustuniga ko'ra grafikni chiqaring\n",
        "\n",
        "<a href=\"https://imgbb.com/\"><img src=\"https://i.ibb.co/g4KgG6q/depart.png\" alt=\"depart\" border=\"0\"></a>"
      ],
      "metadata": {
        "id": "kEEl9lmJWCfi"
      }
    },
    {
      "cell_type": "code",
      "source": [
        "from numpy.core.numeric import cross\n",
        "# JAVOBNI SHUYERGA YOZING\n",
        "dff = pd.crosstab(df.Department, df.Attrition, rownames=['df.Department'], colnames=['df.Attrition'])\n",
        "dff.plot.bar(rot=1)"
      ],
      "metadata": {
        "id": "7xSeffiDWDd5",
        "outputId": "35ba1fae-ce91-46c0-bd7d-2e7376dd6df0",
        "colab": {
          "base_uri": "https://localhost:8080/",
          "height": 304
        }
      },
      "execution_count": 54,
      "outputs": [
        {
          "output_type": "execute_result",
          "data": {
            "text/plain": [
              "<matplotlib.axes._subplots.AxesSubplot at 0x7f4f60075650>"
            ]
          },
          "metadata": {},
          "execution_count": 54
        },
        {
          "output_type": "display_data",
          "data": {
            "image/png": "[encoded data removed]",
            "text/plain": [
              "<Figure size 432x288 with 1 Axes>"
            ]
          },
          "metadata": {
            "needs_background": "light"
          }
        }
      ]
    },
    {
      "cell_type": "markdown",
      "source": [
        "## 10-VAZIFA:  Seaborn kutubxonasining Distribution(taqsimot) imkoniyatidan foydalanib, Attrition(ishdan bo'shaganmi) ustunini MonthlyIncome ustuniga solishtirilganligini grafigini ekranga chiqaring.\n",
        "\n",
        "\n",
        "**Hint: ** Bu orqali biz ishchining oylik maoshini uning ishdan bo'shab ketishiga bog'liq yoki bog'liq emasligini topamiz.\n",
        "\n",
        "<a href=\"https://imgbb.com/\"><img src=\"https://i.ibb.co/zQc4FVZ/displot.png\" alt=\"displot\" border=\"0\"></a><br /><a target='_blank' href='https://500pxdownload.com/'></a><br />"
      ],
      "metadata": {
        "id": "Y3vs7JJIXEgf"
      }
    },
    {
      "cell_type": "code",
      "source": [
        "# JAVOBNI SHUYERGA YOZING\n",
        "sns.displot(data=df, x=\"MonthlyIncome\", hue=\"Attrition\", multiple=\"stack\", height=4, aspect=2)\n",
        "plt.show()"
      ],
      "metadata": {
        "id": "xbF-fJq7XFTf",
        "outputId": "bf4294bd-e841-4ff2-c182-1ae0e94fab47",
        "colab": {
          "base_uri": "https://localhost:8080/",
          "height": 297
        }
      },
      "execution_count": 48,
      "outputs": [
        {
          "output_type": "display_data",
          "data": {
            "image/png": "[encoded data removed]",
            "text/plain": [
              "<Figure size 633.675x288 with 1 Axes>"
            ]
          },
          "metadata": {
            "needs_background": "light"
          }
        }
      ]
    },
    {
      "cell_type": "code",
      "source": [
        ""
      ],
      "metadata": {
        "id": "_DxKN2X_u35w"
      },
      "execution_count": null,
      "outputs": []
    }
  ]
}