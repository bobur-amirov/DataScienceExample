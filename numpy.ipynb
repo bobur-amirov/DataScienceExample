{
  "nbformat": 4,
  "nbformat_minor": 0,
  "metadata": {
    "colab": {
      "name": "numpy.ipynb",
      "provenance": [],
      "collapsed_sections": [],
      "authorship_tag": "ABX9TyNVdGSb+O7s9hSlH3+W1vuh",
      "include_colab_link": true
    },
    "kernelspec": {
      "name": "python3",
      "display_name": "Python 3"
    },
    "language_info": {
      "name": "python"
    }
  },
  "cells": [
    {
      "cell_type": "markdown",
      "metadata": {
        "id": "view-in-github",
        "colab_type": "text"
      },
      "source": [
        "<a href=\"https://colab.research.google.com/github/bobur-amirov/DataScienceExample/blob/main/numpy.ipynb\" target=\"_parent\"><img src=\"https://colab.research.google.com/assets/colab-badge.svg\" alt=\"Open In Colab\"/></a>"
      ]
    },
    {
      "cell_type": "markdown",
      "metadata": {
        "id": "csBFg4oJBNpc"
      },
      "source": [
        "# Numpy ga kirish\n",
        "Birinchi dars\n"
      ]
    },
    {
      "cell_type": "markdown",
      "metadata": {
        "id": "I61XHiBCBhgX"
      },
      "source": [
        "numpy kutubxonasani chaqirib olish"
      ]
    },
    {
      "cell_type": "code",
      "metadata": {
        "id": "rD09dVH98ybf"
      },
      "source": [
        "import numpy as np"
      ],
      "execution_count": 2,
      "outputs": []
    },
    {
      "cell_type": "markdown",
      "metadata": {
        "id": "dsaeydX8B2v-"
      },
      "source": [
        "Python list bilan numpy kutubxonasidagi massivlar hisoblashlari orasidagi farqni ko'ramiz"
      ]
    },
    {
      "cell_type": "code",
      "metadata": {
        "id": "KcpYJgcMBrcG"
      },
      "source": [
        "my_list = list(range(100000))  # list\n",
        "my_array = np.array(range(100000)) #array"
      ],
      "execution_count": null,
      "outputs": []
    },
    {
      "cell_type": "code",
      "metadata": {
        "colab": {
          "base_uri": "https://localhost:8080/"
        },
        "id": "dQ829fkrCCFf",
        "outputId": "e7498256-4546-4ea5-8e5a-5874407fed7c"
      },
      "source": [
        "%time for _ in range(10): [i*2 for i in my_list] # list uchun"
      ],
      "execution_count": null,
      "outputs": [
        {
          "output_type": "stream",
          "name": "stdout",
          "text": [
            "CPU times: user 91.8 ms, sys: 10.9 ms, total: 103 ms\n",
            "Wall time: 105 ms\n"
          ]
        }
      ]
    },
    {
      "cell_type": "code",
      "metadata": {
        "colab": {
          "base_uri": "https://localhost:8080/"
        },
        "id": "Eu9kdABsCjsP",
        "outputId": "dbed004f-14a2-4cc8-c487-74270643cee4"
      },
      "source": [
        "%time for _ in range(10): my_array*2 # array uchun"
      ],
      "execution_count": null,
      "outputs": [
        {
          "output_type": "stream",
          "name": "stdout",
          "text": [
            "CPU times: user 325 µs, sys: 0 ns, total: 325 µs\n",
            "Wall time: 335 µs\n"
          ]
        },
        {
          "output_type": "execute_result",
          "data": {
            "text/plain": [
              "array([     0,      2,      4, ..., 199994, 199996, 199998])"
            ]
          },
          "metadata": {},
          "execution_count": 15
        }
      ]
    },
    {
      "cell_type": "code",
      "metadata": {
        "colab": {
          "base_uri": "https://localhost:8080/"
        },
        "id": "_8Xy1bLBCuF9",
        "outputId": "65c219e2-a4d9-4dab-8364-1b5e1b95844a"
      },
      "source": [
        "97.6 / 3.59"
      ],
      "execution_count": null,
      "outputs": [
        {
          "output_type": "execute_result",
          "data": {
            "text/plain": [
              "27.186629526462394"
            ]
          },
          "metadata": {},
          "execution_count": 14
        }
      ]
    },
    {
      "cell_type": "code",
      "metadata": {
        "id": "IqJevnKCDFHQ",
        "colab": {
          "base_uri": "https://localhost:8080/"
        },
        "outputId": "35fde61d-30a6-4ef9-b345-be28c5462e0d"
      },
      "source": [
        "arr = np.arange(8).reshape(4,2)\n",
        "arr"
      ],
      "execution_count": null,
      "outputs": [
        {
          "output_type": "execute_result",
          "data": {
            "text/plain": [
              "array([[0, 1],\n",
              "       [2, 3],\n",
              "       [4, 5],\n",
              "       [6, 7]])"
            ]
          },
          "metadata": {},
          "execution_count": 4
        }
      ]
    },
    {
      "cell_type": "code",
      "metadata": {
        "colab": {
          "base_uri": "https://localhost:8080/"
        },
        "id": "mqlD3Vy35qoh",
        "outputId": "c8b96143-2d35-4ab6-bea7-9fb3d7c51355"
      },
      "source": [
        "arr.T"
      ],
      "execution_count": null,
      "outputs": [
        {
          "output_type": "execute_result",
          "data": {
            "text/plain": [
              "array([[0, 2, 4, 6],\n",
              "       [1, 3, 5, 7]])"
            ]
          },
          "metadata": {},
          "execution_count": 5
        }
      ]
    },
    {
      "cell_type": "code",
      "metadata": {
        "colab": {
          "base_uri": "https://localhost:8080/"
        },
        "id": "C6CmRy6G50t9",
        "outputId": "8d272569-c5be-4e73-ae89-98dd53df4a6b"
      },
      "source": [
        "arr.swapaxes(1,0)"
      ],
      "execution_count": null,
      "outputs": [
        {
          "output_type": "execute_result",
          "data": {
            "text/plain": [
              "array([[0, 2, 4, 6],\n",
              "       [1, 3, 5, 7]])"
            ]
          },
          "metadata": {},
          "execution_count": 6
        }
      ]
    },
    {
      "cell_type": "code",
      "metadata": {
        "id": "7MeVALiN5-cV",
        "colab": {
          "base_uri": "https://localhost:8080/"
        },
        "outputId": "11437cbc-814a-46eb-a895-9f9c10d28980"
      },
      "source": [
        "np.dot(arr, arr.T)"
      ],
      "execution_count": null,
      "outputs": [
        {
          "output_type": "execute_result",
          "data": {
            "text/plain": [
              "array([[ 1,  3,  5,  7],\n",
              "       [ 3, 13, 23, 33],\n",
              "       [ 5, 23, 41, 59],\n",
              "       [ 7, 33, 59, 85]])"
            ]
          },
          "metadata": {},
          "execution_count": 7
        }
      ]
    },
    {
      "cell_type": "markdown",
      "metadata": {
        "id": "F-RlDU2jol7e"
      },
      "source": [
        "Numpy da shart operatorlaridan foydalanish"
      ]
    },
    {
      "cell_type": "code",
      "metadata": {
        "colab": {
          "base_uri": "https://localhost:8080/"
        },
        "id": "FXqrQyfiou6D",
        "outputId": "774c0946-6fad-43ca-a3b6-ca667af11137"
      },
      "source": [
        "arr1 = np.random.randn(5,5)\n",
        "arr1"
      ],
      "execution_count": null,
      "outputs": [
        {
          "output_type": "execute_result",
          "data": {
            "text/plain": [
              "array([[-0.11118373, -0.80920645,  0.64450783, -0.66952143,  0.39027385],\n",
              "       [-0.14192565, -1.20340497,  1.59286328,  1.18907715, -0.76308741],\n",
              "       [ 1.45099228,  1.80630137, -1.47948888, -0.34185745, -0.60771853],\n",
              "       [-0.87667617,  0.82403291,  1.03321259,  0.74847146,  0.26022829],\n",
              "       [-0.30524182,  0.58349381,  0.48949973,  0.16496256, -0.59950079]])"
            ]
          },
          "metadata": {},
          "execution_count": 3
        }
      ]
    },
    {
      "cell_type": "code",
      "metadata": {
        "colab": {
          "base_uri": "https://localhost:8080/"
        },
        "id": "LRN0ZgnApAhZ",
        "outputId": "f9466091-2940-4cc6-f736-2260987eb64d"
      },
      "source": [
        "result = np.where(arr1<0, -5, 5)\n",
        "result"
      ],
      "execution_count": null,
      "outputs": [
        {
          "output_type": "execute_result",
          "data": {
            "text/plain": [
              "array([[-5, -5,  5, -5,  5],\n",
              "       [-5, -5,  5,  5, -5],\n",
              "       [ 5,  5, -5, -5, -5],\n",
              "       [-5,  5,  5,  5,  5],\n",
              "       [-5,  5,  5,  5, -5]])"
            ]
          },
          "metadata": {},
          "execution_count": 4
        }
      ]
    },
    {
      "cell_type": "markdown",
      "metadata": {
        "id": "lS3U1ILYueMC"
      },
      "source": [
        "Matematik amallar"
      ]
    },
    {
      "cell_type": "code",
      "metadata": {
        "colab": {
          "base_uri": "https://localhost:8080/"
        },
        "id": "V8ZSj26KpPjh",
        "outputId": "fe8589e3-c86c-4ed1-8767-5efcd4be3a86"
      },
      "source": [
        "arr2 = np.random.randn(5,3)\n",
        "arr2"
      ],
      "execution_count": null,
      "outputs": [
        {
          "output_type": "execute_result",
          "data": {
            "text/plain": [
              "array([[-0.01480779,  0.40783169, -0.9721867 ],\n",
              "       [-1.35130882,  0.18758158,  0.89991866],\n",
              "       [ 0.3150195 , -0.71526189, -0.45364799],\n",
              "       [-0.21453638, -1.62197519,  0.02706796],\n",
              "       [ 0.59835652,  0.7101697 ,  0.8544968 ]])"
            ]
          },
          "metadata": {},
          "execution_count": 5
        }
      ]
    },
    {
      "cell_type": "code",
      "metadata": {
        "colab": {
          "base_uri": "https://localhost:8080/"
        },
        "id": "t_jk_wQ4urlT",
        "outputId": "8c3b152c-0a4f-48ea-f5ee-25fe2ec14ea0"
      },
      "source": [
        "arr2.sum()"
      ],
      "execution_count": null,
      "outputs": [
        {
          "output_type": "execute_result",
          "data": {
            "text/plain": [
              "-1.3432823355231251"
            ]
          },
          "metadata": {},
          "execution_count": 6
        }
      ]
    },
    {
      "cell_type": "code",
      "metadata": {
        "colab": {
          "base_uri": "https://localhost:8080/"
        },
        "id": "3JD10SlNuvHF",
        "outputId": "5a001716-5af9-4de5-f669-1f7151a3738c"
      },
      "source": [
        "np.sum(arr2)"
      ],
      "execution_count": null,
      "outputs": [
        {
          "output_type": "execute_result",
          "data": {
            "text/plain": [
              "-1.3432823355231251"
            ]
          },
          "metadata": {},
          "execution_count": 7
        }
      ]
    },
    {
      "cell_type": "code",
      "metadata": {
        "colab": {
          "base_uri": "https://localhost:8080/"
        },
        "id": "XLiRm29xuyc9",
        "outputId": "67433c05-ecb9-4e79-95a2-50e474b9257e"
      },
      "source": [
        "np.sum(arr2, axis=1)"
      ],
      "execution_count": null,
      "outputs": [
        {
          "output_type": "execute_result",
          "data": {
            "text/plain": [
              "array([-0.5791628 , -0.26380858, -0.85389038, -1.80944361,  2.16302303])"
            ]
          },
          "metadata": {},
          "execution_count": 8
        }
      ]
    },
    {
      "cell_type": "code",
      "metadata": {
        "colab": {
          "base_uri": "https://localhost:8080/"
        },
        "id": "5xKuLuG1vGSX",
        "outputId": "f511eb70-3d9c-469c-c634-6b77b3399e99"
      },
      "source": [
        "np.sum(arr2, axis=0)"
      ],
      "execution_count": null,
      "outputs": [
        {
          "output_type": "execute_result",
          "data": {
            "text/plain": [
              "array([-0.66727697, -1.0316541 ,  0.35564874])"
            ]
          },
          "metadata": {},
          "execution_count": 9
        }
      ]
    },
    {
      "cell_type": "code",
      "metadata": {
        "colab": {
          "base_uri": "https://localhost:8080/"
        },
        "id": "PqFKbOaVvJwH",
        "outputId": "b6f2e73a-265e-402e-868d-6ce668ec58b4"
      },
      "source": [
        "np.mean(arr2)"
      ],
      "execution_count": null,
      "outputs": [
        {
          "output_type": "execute_result",
          "data": {
            "text/plain": [
              "-0.08955215570154168"
            ]
          },
          "metadata": {},
          "execution_count": 10
        }
      ]
    },
    {
      "cell_type": "code",
      "metadata": {
        "id": "G6s4dGYbvTBF"
      },
      "source": [
        "names = np.array(['Sarvar', 'Abdurahmon', 'Hasan',  'Temur', 'Sarvar', 'Temur'])\n",
        "ints = np.array([3, 3, 3, 2, 2, 1, 1, 4, 4])"
      ],
      "execution_count": 4,
      "outputs": []
    },
    {
      "cell_type": "code",
      "metadata": {
        "colab": {
          "base_uri": "https://localhost:8080/"
        },
        "id": "sr4ZVImPtIJM",
        "outputId": "160fdf6e-1ab8-4d7d-d4d7-6d8f83232e10"
      },
      "source": [
        "names"
      ],
      "execution_count": 5,
      "outputs": [
        {
          "output_type": "execute_result",
          "data": {
            "text/plain": [
              "array(['Sarvar', 'Abdurahmon', 'Hasan', 'Temur', 'Sarvar', 'Temur'],\n",
              "      dtype='<U10')"
            ]
          },
          "metadata": {},
          "execution_count": 5
        }
      ]
    },
    {
      "cell_type": "code",
      "metadata": {
        "colab": {
          "base_uri": "https://localhost:8080/"
        },
        "id": "9mgnrGSKtI1Z",
        "outputId": "99afface-b937-48a8-ca89-b938aa1f8bec"
      },
      "source": [
        "ints"
      ],
      "execution_count": 6,
      "outputs": [
        {
          "output_type": "execute_result",
          "data": {
            "text/plain": [
              "array([3, 3, 3, 2, 2, 1, 1, 4, 4])"
            ]
          },
          "metadata": {},
          "execution_count": 6
        }
      ]
    },
    {
      "cell_type": "code",
      "metadata": {
        "colab": {
          "base_uri": "https://localhost:8080/"
        },
        "id": "FBWBn19vtJ7D",
        "outputId": "ac06e6a5-9b1d-4fb3-e454-96e5997ca730"
      },
      "source": [
        "ints.sort()\n",
        "ints"
      ],
      "execution_count": 9,
      "outputs": [
        {
          "output_type": "execute_result",
          "data": {
            "text/plain": [
              "array([1, 1, 2, 2, 3, 3, 3, 4, 4])"
            ]
          },
          "metadata": {},
          "execution_count": 9
        }
      ]
    },
    {
      "cell_type": "code",
      "metadata": {
        "colab": {
          "base_uri": "https://localhost:8080/"
        },
        "id": "NWC49TKftNMw",
        "outputId": "a1a7065b-6c17-4f66-e689-f23c88e2283a"
      },
      "source": [
        "np.unique(ints)"
      ],
      "execution_count": 10,
      "outputs": [
        {
          "output_type": "execute_result",
          "data": {
            "text/plain": [
              "array([1, 2, 3, 4])"
            ]
          },
          "metadata": {},
          "execution_count": 10
        }
      ]
    },
    {
      "cell_type": "code",
      "metadata": {
        "id": "SD0tyHl4tU_2"
      },
      "source": [
        "names1 = np.array(['Jasur', 'Alisher', 'Husan',  'Muhammad', 'Sarvar', 'Temur'])\n",
        "names2 = np.array(['Sarvar', 'Bahrom', 'Hasan',  'Temur', 'Sarvar', 'Bobur'])"
      ],
      "execution_count": 11,
      "outputs": []
    },
    {
      "cell_type": "code",
      "metadata": {
        "colab": {
          "base_uri": "https://localhost:8080/"
        },
        "id": "11mx6mNktgkT",
        "outputId": "43d74c15-9c43-4bf6-d5e1-22c353737773"
      },
      "source": [
        "np.setdiff1d(names1, names2)"
      ],
      "execution_count": 12,
      "outputs": [
        {
          "output_type": "execute_result",
          "data": {
            "text/plain": [
              "array(['Alisher', 'Husan', 'Jasur', 'Muhammad'], dtype='<U8')"
            ]
          },
          "metadata": {},
          "execution_count": 12
        }
      ]
    },
    {
      "cell_type": "code",
      "metadata": {
        "id": "CxDhHyrNtmxv"
      },
      "source": [
        "np.save('names', names1)"
      ],
      "execution_count": 14,
      "outputs": []
    },
    {
      "cell_type": "code",
      "metadata": {
        "id": "b92wkOhfxWEM"
      },
      "source": [
        "np.savez('names12', names1=names1, names2=names2)"
      ],
      "execution_count": 15,
      "outputs": []
    },
    {
      "cell_type": "code",
      "metadata": {
        "colab": {
          "base_uri": "https://localhost:8080/"
        },
        "id": "xARfyri4xloZ",
        "outputId": "6a4c1975-aa86-4517-8c5b-117644aeb813"
      },
      "source": [
        "names12 = np.load('names12.npz')\n",
        "names12"
      ],
      "execution_count": 16,
      "outputs": [
        {
          "output_type": "execute_result",
          "data": {
            "text/plain": [
              "<numpy.lib.npyio.NpzFile at 0x7fc9b06b1990>"
            ]
          },
          "metadata": {},
          "execution_count": 16
        }
      ]
    },
    {
      "cell_type": "code",
      "metadata": {
        "colab": {
          "base_uri": "https://localhost:8080/"
        },
        "id": "gtnenxMUx2n8",
        "outputId": "c130b7af-11e4-4f33-f2dc-bb1a8cff82a1"
      },
      "source": [
        "names12['names1']"
      ],
      "execution_count": 17,
      "outputs": [
        {
          "output_type": "execute_result",
          "data": {
            "text/plain": [
              "array(['Jasur', 'Alisher', 'Husan', 'Muhammad', 'Sarvar', 'Temur'],\n",
              "      dtype='<U8')"
            ]
          },
          "metadata": {},
          "execution_count": 17
        }
      ]
    },
    {
      "cell_type": "code",
      "metadata": {
        "colab": {
          "base_uri": "https://localhost:8080/"
        },
        "id": "f4DQW_oNx8Yi",
        "outputId": "c9d3130e-04e7-4d52-c88e-8322935e5336"
      },
      "source": [
        "names12['names2']"
      ],
      "execution_count": 18,
      "outputs": [
        {
          "output_type": "execute_result",
          "data": {
            "text/plain": [
              "array(['Sarvar', 'Bahrom', 'Hasan', 'Temur', 'Sarvar', 'Bobur'],\n",
              "      dtype='<U6')"
            ]
          },
          "metadata": {},
          "execution_count": 18
        }
      ]
    },
    {
      "cell_type": "code",
      "metadata": {
        "id": "0AgcsDoVx_TY"
      },
      "source": [
        ""
      ],
      "execution_count": null,
      "outputs": []
    }
  ]
}