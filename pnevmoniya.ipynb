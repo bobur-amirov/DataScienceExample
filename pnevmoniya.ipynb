{
  "nbformat": 4,
  "nbformat_minor": 0,
  "metadata": {
    "colab": {
      "private_outputs": true,
      "provenance": [],
      "mount_file_id": "1WeYN_bH-_vTWg6os1dp4fcroT6wyxbTV",
      "authorship_tag": "ABX9TyOKdrspR6V2dej7ECfvuoD6",
      "include_colab_link": true
    },
    "kernelspec": {
      "name": "python3",
      "display_name": "Python 3"
    },
    "language_info": {
      "name": "python"
    },
    "accelerator": "GPU",
    "gpuClass": "standard"
  },
  "cells": [
    {
      "cell_type": "markdown",
      "metadata": {
        "id": "view-in-github",
        "colab_type": "text"
      },
      "source": [
        "<a href=\"https://colab.research.google.com/github/bobur-amirov/DataScienceExample/blob/main/pnevmoniya.ipynb\" target=\"_parent\"><img src=\"https://colab.research.google.com/assets/colab-badge.svg\" alt=\"Open In Colab\"/></a>"
      ]
    },
    {
      "cell_type": "markdown",
      "source": [
        "### Kerakli kutubxonalrni chaqiramiz"
      ],
      "metadata": {
        "id": "G-z1iNZFiZDH"
      }
    },
    {
      "cell_type": "code",
      "execution_count": null,
      "metadata": {
        "id": "-_DR0hvucP-c"
      },
      "outputs": [],
      "source": [
        "import torch\n",
        "import fastai\n",
        "\n",
        "print(torch.__version__)\n",
        "print(fastai.__version__)"
      ]
    },
    {
      "cell_type": "code",
      "source": [
        "!cd drive/MyDrive/ && ls"
      ],
      "metadata": {
        "id": "TJMu3XzPc27t"
      },
      "execution_count": null,
      "outputs": []
    },
    {
      "cell_type": "markdown",
      "source": [
        "### Datablock va dataloders yaratib resnet34 modelini 5 ta epoch da fine_tune qilamiz "
      ],
      "metadata": {
        "id": "hQ6ld0uvij26"
      }
    },
    {
      "cell_type": "code",
      "source": [
        "from fastai.vision.all import *\n",
        "from ipywidgets import widgets\n",
        "\n",
        "path = Path('drive/MyDrive/pnevmoniya/train')\n",
        "\n",
        "pnevmoniya = DataBlock(\n",
        "    blocks=(ImageBlock, CategoryBlock),\n",
        "    get_items=get_image_files,\n",
        "    get_y = parent_label,\n",
        "    item_tfms=Resize(224)\n",
        ")\n",
        "\n",
        "dls = pnevmoniya.dataloaders(path)\n",
        "\n",
        "learn = cnn_learner(dls, resnet34, metrics=accuracy)\n",
        "learn.fine_tune(5)"
      ],
      "metadata": {
        "id": "OJ0SVlcPceVC"
      },
      "execution_count": null,
      "outputs": []
    },
    {
      "cell_type": "code",
      "source": [
        "interp = ClassificationInterpretation.from_learner(learn)\n",
        "interp.plot_confusion_matrix()"
      ],
      "metadata": {
        "id": "66WfPqakvWRG"
      },
      "execution_count": null,
      "outputs": []
    },
    {
      "cell_type": "code",
      "source": [
        "path_test = Path('drive/MyDrive/pnevmoniya/test')"
      ],
      "metadata": {
        "id": "CPHDez2VvS2x"
      },
      "execution_count": null,
      "outputs": []
    },
    {
      "cell_type": "code",
      "source": [
        "df = pd.read_csv('drive/MyDrive/pnevmoniya/sample_solution.csv')\n",
        "df.head()"
      ],
      "metadata": {
        "id": "Mw5olSMdzlsP"
      },
      "execution_count": null,
      "outputs": []
    },
    {
      "cell_type": "code",
      "source": [
        "import cv2\n",
        "for i in range(0,624):\n",
        "    label = df.iloc[i,0]\n",
        "    img = cv2.imread('drive/MyDrive/pnevmoniya/test/'+label)\n",
        "    pred, _, prob = learn.predict(img)\n",
        "    df.iloc[i,1] = pred"
      ],
      "metadata": {
        "id": "Vp25RN-lzuI3"
      },
      "execution_count": null,
      "outputs": []
    },
    {
      "cell_type": "code",
      "source": [
        "df.head()\n"
      ],
      "metadata": {
        "id": "0FhonlMzzwsj"
      },
      "execution_count": null,
      "outputs": []
    },
    {
      "cell_type": "code",
      "source": [
        "df['labels'] = df['labels'].replace(\"NORMAL\",0)\n",
        "df['labels'] = df['labels'].replace(\"PNEUMONIA\",1)\n",
        "df['labels'].value_counts()"
      ],
      "metadata": {
        "id": "qnuAUMqY3PmS"
      },
      "execution_count": null,
      "outputs": []
    },
    {
      "cell_type": "code",
      "source": [
        "df.to_csv('submission123.csv',index=False)"
      ],
      "metadata": {
        "id": "LHyzhw6S1s7D"
      },
      "execution_count": null,
      "outputs": []
    },
    {
      "cell_type": "code",
      "source": [
        "subm = pd.read_csv('submission123.csv')\n",
        "subm.head()"
      ],
      "metadata": {
        "id": "CcrD8HpG2WkD"
      },
      "execution_count": null,
      "outputs": []
    },
    {
      "cell_type": "code",
      "source": [],
      "metadata": {
        "id": "Tmjcvdja2a9b"
      },
      "execution_count": null,
      "outputs": []
    }
  ]
}