{
  "nbformat": 4,
  "nbformat_minor": 0,
  "metadata": {
    "colab": {
      "name": "pandas.ipynb",
      "provenance": [],
      "authorship_tag": "ABX9TyNPI6HtZm+sqFQkGT1j9l8F",
      "include_colab_link": true
    },
    "kernelspec": {
      "name": "python3",
      "display_name": "Python 3"
    },
    "language_info": {
      "name": "python"
    }
  },
  "cells": [
    {
      "cell_type": "markdown",
      "metadata": {
        "id": "view-in-github",
        "colab_type": "text"
      },
      "source": [
        "<a href=\"https://colab.research.google.com/github/bobur-amirov/DataScienceExample/blob/main/pandas.ipynb\" target=\"_parent\"><img src=\"https://colab.research.google.com/assets/colab-badge.svg\" alt=\"Open In Colab\"/></a>"
      ]
    },
    {
      "cell_type": "markdown",
      "metadata": {
        "id": "cX0h3NZW5tv4"
      },
      "source": [
        "# **Python Pandas kutubxonasiga kirish**\n",
        "pandas kutubxonasi ma'lumotlar muhandisining eng muhim ish quroli hisoblanadi. Data Science loyihalar ustida ishlar ekanmiz, 90% amallar aynan pandas yordamida amalga oshiriladi. pandas o'zining maxsus ma'lumotlar tuzilmalariga ega va bu tuzilmalar ma'lumotlarga ishlov berish, tozalash va boshqa amllarni bir necha barobar osonlashtiradi.\n",
        "\n",
        "Avvalgi bo'limda ko'rilgan numpy kutubxonasidan farqli ravishda, pandas kutubxonasi faqatgina sonlardan iborat massivlar bilan emas, balki turli ko'rinishdagi ma'lumotlardan iborat jadvallar bilan ishlashga moslashgan.\n",
        "\n",
        "# pandas kutubxonasini chaqirib olamiz"
      ]
    },
    {
      "cell_type": "code",
      "metadata": {
        "id": "teNpb9jc53Jy"
      },
      "source": [
        "import pandas as pd\n",
        "import numpy as np\n"
      ],
      "execution_count": 3,
      "outputs": []
    },
    {
      "cell_type": "markdown",
      "metadata": {
        "id": "vIOydLFq6f4n"
      },
      "source": [
        "# **pandas tarkibidagi ma'lumotlar tuzilmalari**\n",
        "pandas ikkita juda muhim va deyalri barcha loyihalar uchun mos tushuvchi Series va DataFrame ma'lumotlar tuzilamalariga ega. Keling ular bilan yaqindan tanishamiz.\n",
        "\n",
        "Boshlanishiga bu ikki tuzilmalarni ham dasturimizga chaqirib olaylik."
      ]
    },
    {
      "cell_type": "code",
      "metadata": {
        "id": "UNgCg3nP6kkF"
      },
      "source": [
        "from pandas import Series, DataFrame as df"
      ],
      "execution_count": 4,
      "outputs": []
    },
    {
      "cell_type": "code",
      "metadata": {
        "id": "qelDutQj6tJC"
      },
      "source": [
        "obj = Series([1,19,-10,6,-24,-20])"
      ],
      "execution_count": 5,
      "outputs": []
    },
    {
      "cell_type": "code",
      "metadata": {
        "colab": {
          "base_uri": "https://localhost:8080/"
        },
        "id": "x6lTGAnl67Mt",
        "outputId": "a80cc44e-f390-4ecd-83ae-1c443ac6dd0c"
      },
      "source": [
        "obj # natija bizga obeyk ko'rinishda bo'ladi"
      ],
      "execution_count": 6,
      "outputs": [
        {
          "output_type": "execute_result",
          "data": {
            "text/plain": [
              "0     1\n",
              "1    19\n",
              "2   -10\n",
              "3     6\n",
              "4   -24\n",
              "5   -20\n",
              "dtype: int64"
            ]
          },
          "metadata": {},
          "execution_count": 6
        }
      ]
    },
    {
      "cell_type": "code",
      "metadata": {
        "colab": {
          "base_uri": "https://localhost:8080/"
        },
        "id": "-i5RKJfl68g8",
        "outputId": "f483ee0c-cf33-4aed-b846-39e45925225b"
      },
      "source": [
        "obj.index # Bu obeyktimizni indexlarini ko'rish uchun index metodini foydalanamiz"
      ],
      "execution_count": 7,
      "outputs": [
        {
          "output_type": "execute_result",
          "data": {
            "text/plain": [
              "RangeIndex(start=0, stop=6, step=1)"
            ]
          },
          "metadata": {},
          "execution_count": 7
        }
      ]
    },
    {
      "cell_type": "code",
      "metadata": {
        "colab": {
          "base_uri": "https://localhost:8080/"
        },
        "id": "omVjUOQh7ZVJ",
        "outputId": "0782ec0b-dbf5-4d31-e40a-b8dabb4f113a"
      },
      "source": [
        "obj.values # BU obeyktimizni qiymatlarini ko'rish uchun values metodidan foydalanamiz"
      ],
      "execution_count": 8,
      "outputs": [
        {
          "output_type": "execute_result",
          "data": {
            "text/plain": [
              "array([  1,  19, -10,   6, -24, -20])"
            ]
          },
          "metadata": {},
          "execution_count": 8
        }
      ]
    },
    {
      "cell_type": "code",
      "metadata": {
        "colab": {
          "base_uri": "https://localhost:8080/"
        },
        "id": "O1IojNAv7kf-",
        "outputId": "8f7a3a2c-9568-43fa-8125-fbbf11f31d3f"
      },
      "source": [
        "obj[2] # 2 indexdagi qiymat"
      ],
      "execution_count": 9,
      "outputs": [
        {
          "output_type": "execute_result",
          "data": {
            "text/plain": [
              "-10"
            ]
          },
          "metadata": {},
          "execution_count": 9
        }
      ]
    },
    {
      "cell_type": "code",
      "metadata": {
        "id": "PPcw1Mhc7oAo"
      },
      "source": [
        "obj2 = Series([1,2,3,4,5], index=['1', '2', '3', '4', '5'])"
      ],
      "execution_count": 10,
      "outputs": []
    },
    {
      "cell_type": "code",
      "metadata": {
        "colab": {
          "base_uri": "https://localhost:8080/"
        },
        "id": "C56rfywE76aJ",
        "outputId": "d407e7d1-3237-48d1-accf-67ecc5dd76fe"
      },
      "source": [
        "obj2"
      ],
      "execution_count": 11,
      "outputs": [
        {
          "output_type": "execute_result",
          "data": {
            "text/plain": [
              "1    1\n",
              "2    2\n",
              "3    3\n",
              "4    4\n",
              "5    5\n",
              "dtype: int64"
            ]
          },
          "metadata": {},
          "execution_count": 11
        }
      ]
    },
    {
      "cell_type": "code",
      "metadata": {
        "colab": {
          "base_uri": "https://localhost:8080/"
        },
        "id": "Ace0AkKq78dN",
        "outputId": "7ff572b9-1f7b-43e2-e8d8-f0b158855b57"
      },
      "source": [
        "obj2[1] #bu default index "
      ],
      "execution_count": 12,
      "outputs": [
        {
          "output_type": "execute_result",
          "data": {
            "text/plain": [
              "2"
            ]
          },
          "metadata": {},
          "execution_count": 12
        }
      ]
    },
    {
      "cell_type": "code",
      "metadata": {
        "colab": {
          "base_uri": "https://localhost:8080/"
        },
        "id": "IItAPvAH8AGU",
        "outputId": "c6827b59-cbaa-40d9-8aac-a82de831f678"
      },
      "source": [
        "obj2['1'] # bu biz bergan index"
      ],
      "execution_count": 13,
      "outputs": [
        {
          "output_type": "execute_result",
          "data": {
            "text/plain": [
              "1"
            ]
          },
          "metadata": {},
          "execution_count": 13
        }
      ]
    },
    {
      "cell_type": "code",
      "metadata": {
        "colab": {
          "base_uri": "https://localhost:8080/"
        },
        "id": "GxVPzu-_8FUS",
        "outputId": "56d3599c-300a-4363-cf4f-88575fa10a6b"
      },
      "source": [
        "obj2[['2', '4']]"
      ],
      "execution_count": 14,
      "outputs": [
        {
          "output_type": "execute_result",
          "data": {
            "text/plain": [
              "2    2\n",
              "4    4\n",
              "dtype: int64"
            ]
          },
          "metadata": {},
          "execution_count": 14
        }
      ]
    },
    {
      "cell_type": "markdown",
      "metadata": {
        "id": "z_doko7J8bwW"
      },
      "source": [
        "**Endi python dict dan Sereis yaratamiz va bu juda oson**\n",
        "\n",
        "---\n",
        "\n",
        "\n",
        "\n",
        "The following defines a dictionary that maps a location to the name of its corresponding Major League Baseball team:"
      ]
    },
    {
      "cell_type": "code",
      "metadata": {
        "id": "CoOcI6nL8VsP"
      },
      "source": [
        "MLB_team  = {'Colorado' : 'Rockies','Boston'   : 'Red Sox','Minnesota': 'Twins','Milwaukee': 'Brewers','Seattle'  : 'Mariners'}"
      ],
      "execution_count": 15,
      "outputs": []
    },
    {
      "cell_type": "code",
      "metadata": {
        "id": "O6uU2fN69nob"
      },
      "source": [
        "team = Series(MLB_team) # dict dan Serais yaratyapmiz"
      ],
      "execution_count": 16,
      "outputs": []
    },
    {
      "cell_type": "code",
      "metadata": {
        "colab": {
          "base_uri": "https://localhost:8080/"
        },
        "id": "oQsqEJ7x90rt",
        "outputId": "ab501941-478f-4976-8869-cbe790b5e96e"
      },
      "source": [
        "team"
      ],
      "execution_count": 17,
      "outputs": [
        {
          "output_type": "execute_result",
          "data": {
            "text/plain": [
              "Colorado      Rockies\n",
              "Boston        Red Sox\n",
              "Minnesota       Twins\n",
              "Milwaukee     Brewers\n",
              "Seattle      Mariners\n",
              "dtype: object"
            ]
          },
          "metadata": {},
          "execution_count": 17
        }
      ]
    },
    {
      "cell_type": "code",
      "metadata": {
        "colab": {
          "base_uri": "https://localhost:8080/",
          "height": 35
        },
        "id": "HLwabWC791U_",
        "outputId": "76d9d6c5-3d2b-47df-901d-2f8d06fc4ccd"
      },
      "source": [
        "team['Boston']"
      ],
      "execution_count": 18,
      "outputs": [
        {
          "output_type": "execute_result",
          "data": {
            "application/vnd.google.colaboratory.intrinsic+json": {
              "type": "string"
            },
            "text/plain": [
              "'Red Sox'"
            ]
          },
          "metadata": {},
          "execution_count": 18
        }
      ]
    },
    {
      "cell_type": "code",
      "metadata": {
        "id": "ZwqAJ4ej9_eD"
      },
      "source": [
        "models = ['Minnesota', 'Milwaukee', 'Colorado', 'Coralina', 'Tampa', 'Boston', 'Seattle'] "
      ],
      "execution_count": 19,
      "outputs": []
    },
    {
      "cell_type": "code",
      "metadata": {
        "id": "QIqb7vYI-e7H"
      },
      "source": [
        "team2 = Series(MLB_team, index=models) # indexni uzimiz ko'rsatyapmiz qanaqa va qay tartibda bo'lishini"
      ],
      "execution_count": 20,
      "outputs": []
    },
    {
      "cell_type": "code",
      "metadata": {
        "colab": {
          "base_uri": "https://localhost:8080/"
        },
        "id": "wU0933ht-lgq",
        "outputId": "e982fd15-6617-4c97-d167-02e69b7a35a7"
      },
      "source": [
        "team2"
      ],
      "execution_count": 21,
      "outputs": [
        {
          "output_type": "execute_result",
          "data": {
            "text/plain": [
              "Minnesota       Twins\n",
              "Milwaukee     Brewers\n",
              "Colorado      Rockies\n",
              "Coralina          NaN\n",
              "Tampa             NaN\n",
              "Boston        Red Sox\n",
              "Seattle      Mariners\n",
              "dtype: object"
            ]
          },
          "metadata": {},
          "execution_count": 21
        }
      ]
    },
    {
      "cell_type": "code",
      "metadata": {
        "colab": {
          "base_uri": "https://localhost:8080/"
        },
        "id": "w9yDPLqD-mjj",
        "outputId": "20e597b2-7003-45ef-ce81-1c9499addd31"
      },
      "source": [
        "team2.isnull() # bu metod qiymat mavjud bo'lsa False, mavjud bo'lmasa True qaytaaara"
      ],
      "execution_count": 23,
      "outputs": [
        {
          "output_type": "execute_result",
          "data": {
            "text/plain": [
              "Minnesota    False\n",
              "Milwaukee    False\n",
              "Colorado     False\n",
              "Coralina      True\n",
              "Tampa         True\n",
              "Boston       False\n",
              "Seattle      False\n",
              "dtype: bool"
            ]
          },
          "metadata": {},
          "execution_count": 23
        }
      ]
    },
    {
      "cell_type": "code",
      "metadata": {
        "colab": {
          "base_uri": "https://localhost:8080/"
        },
        "id": "WPLPWdBj-3sl",
        "outputId": "3f8bf803-c309-4524-8169-36b882747308"
      },
      "source": [
        "team2.notnull() # bu tepadahi metodga taskari bo;lgan metod"
      ],
      "execution_count": 24,
      "outputs": [
        {
          "output_type": "execute_result",
          "data": {
            "text/plain": [
              "Minnesota     True\n",
              "Milwaukee     True\n",
              "Colorado      True\n",
              "Coralina     False\n",
              "Tampa        False\n",
              "Boston        True\n",
              "Seattle       True\n",
              "dtype: bool"
            ]
          },
          "metadata": {},
          "execution_count": 24
        }
      ]
    },
    {
      "cell_type": "code",
      "metadata": {
        "id": "DNFaMPv1_MwK"
      },
      "source": [
        "team2.name = 'Xokkey klublari' # Obeyktimizga nom beryapmiz"
      ],
      "execution_count": 25,
      "outputs": []
    },
    {
      "cell_type": "code",
      "metadata": {
        "id": "3P2NFdsA_kVy"
      },
      "source": [
        "team2.index.name = \"Klub nomlari\""
      ],
      "execution_count": 26,
      "outputs": []
    },
    {
      "cell_type": "code",
      "metadata": {
        "colab": {
          "base_uri": "https://localhost:8080/"
        },
        "id": "gCFUyHBr_r0p",
        "outputId": "23e32c03-9537-47d1-93b0-a8fa3351e03e"
      },
      "source": [
        "team2"
      ],
      "execution_count": 27,
      "outputs": [
        {
          "output_type": "execute_result",
          "data": {
            "text/plain": [
              "Klub nomlari\n",
              "Minnesota       Twins\n",
              "Milwaukee     Brewers\n",
              "Colorado      Rockies\n",
              "Coralina          NaN\n",
              "Tampa             NaN\n",
              "Boston        Red Sox\n",
              "Seattle      Mariners\n",
              "Name: Xokkey klublari, dtype: object"
            ]
          },
          "metadata": {},
          "execution_count": 27
        }
      ]
    },
    {
      "cell_type": "code",
      "metadata": {
        "colab": {
          "base_uri": "https://localhost:8080/"
        },
        "id": "-WmzfTI6_tZR",
        "outputId": "88f535f0-b21f-4470-b42a-de19c0f40f24"
      },
      "source": [
        "team2.hasnans # NaN qiymat bor bo'lsa True yuq bo'lsa False qiyat qaytaradi"
      ],
      "execution_count": 28,
      "outputs": [
        {
          "output_type": "execute_result",
          "data": {
            "text/plain": [
              "True"
            ]
          },
          "metadata": {},
          "execution_count": 28
        }
      ]
    },
    {
      "cell_type": "code",
      "metadata": {
        "colab": {
          "base_uri": "https://localhost:8080/"
        },
        "id": "JXS_Yj3SAAXN",
        "outputId": "25d8e240-d777-49b7-9332-aef3fb7891f1"
      },
      "source": [
        "team2.is_unique"
      ],
      "execution_count": 29,
      "outputs": [
        {
          "output_type": "execute_result",
          "data": {
            "text/plain": [
              "False"
            ]
          },
          "metadata": {},
          "execution_count": 29
        }
      ]
    },
    {
      "cell_type": "code",
      "metadata": {
        "colab": {
          "base_uri": "https://localhost:8080/"
        },
        "id": "LEpjN_g1AEqR",
        "outputId": "0f2ef5fc-d75f-4120-fdf3-81746d086c55"
      },
      "source": [
        "team2.shape"
      ],
      "execution_count": 30,
      "outputs": [
        {
          "output_type": "execute_result",
          "data": {
            "text/plain": [
              "(7,)"
            ]
          },
          "metadata": {},
          "execution_count": 30
        }
      ]
    },
    {
      "cell_type": "code",
      "metadata": {
        "colab": {
          "base_uri": "https://localhost:8080/",
          "height": 35
        },
        "id": "A4x7XBUfAHuF",
        "outputId": "3aa26153-f9c7-4722-b289-508c63a17afd"
      },
      "source": [
        "team2.iloc[1] # index tartib nomeri bo'yicha murojat qilish"
      ],
      "execution_count": 31,
      "outputs": [
        {
          "output_type": "execute_result",
          "data": {
            "application/vnd.google.colaboratory.intrinsic+json": {
              "type": "string"
            },
            "text/plain": [
              "'Brewers'"
            ]
          },
          "metadata": {},
          "execution_count": 31
        }
      ]
    },
    {
      "cell_type": "code",
      "metadata": {
        "colab": {
          "base_uri": "https://localhost:8080/",
          "height": 35
        },
        "id": "ZYjHqL4aATEV",
        "outputId": "10fddd87-bd5f-4d2b-e640-0be7749dc8e3"
      },
      "source": [
        "team2['Milwaukee'] # index bo'yicha murojat qilish"
      ],
      "execution_count": 32,
      "outputs": [
        {
          "output_type": "execute_result",
          "data": {
            "application/vnd.google.colaboratory.intrinsic+json": {
              "type": "string"
            },
            "text/plain": [
              "'Brewers'"
            ]
          },
          "metadata": {},
          "execution_count": 32
        }
      ]
    },
    {
      "cell_type": "code",
      "metadata": {
        "id": "4sLvIy36Agmi"
      },
      "source": [
        ""
      ],
      "execution_count": 33,
      "outputs": []
    },
    {
      "cell_type": "code",
      "metadata": {
        "id": "0mmRfoPIAl2I"
      },
      "source": [
        ""
      ],
      "execution_count": null,
      "outputs": []
    }
  ]
}